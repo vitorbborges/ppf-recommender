{
 "cells": [
  {
   "cell_type": "code",
   "execution_count": 1,
   "metadata": {
    "ExecuteTime": {
     "end_time": "2022-10-13T07:26:13.441131Z",
     "start_time": "2022-10-13T07:26:13.431127Z"
    },
    "run_control": {
     "marked": true
    }
   },
   "outputs": [],
   "source": [
    "import pandas as pd\n",
    "import random"
   ]
  },
  {
   "cell_type": "code",
   "execution_count": 2,
   "metadata": {
    "ExecuteTime": {
     "end_time": "2022-10-13T05:06:28.351232Z",
     "start_time": "2022-10-13T05:06:28.326785Z"
    }
   },
   "outputs": [],
   "source": [
    "class Data:\n",
    "    def __init__(self):\n",
    "        \n",
    "        self.available_databases=['ml_100k', 'ml_1m','jester']\n",
    "        #self.the_data_reader= getattr(Data, 'read_'+database_name.lower())\n",
    "        #self.the_data_reader= 'read_'+database_name.lower()\n",
    "    def show_available_databases(self):\n",
    "        print('The avaliable database are:')\n",
    "        for i,database in enumerate(self.available_databases):\n",
    "            print(str(i)+': '+database)            \n",
    "\n",
    "\n",
    "        \n",
    "    def read_data(self,database_name):\n",
    "        self.database_name=database_name\n",
    "        self.the_data_reader= getattr(self, 'read_'+database_name.lower())\n",
    "        self.the_data_reader()\n",
    "        # The datasets for collaborative filtering must be:\n",
    "        # The dataframe containing the ratings. \n",
    "        # It must have three columns, corresponding to the user (raw) ids, \n",
    "        #the item (raw) ids, and the ratings, in this order.    \n",
    "\n",
    "    def read_ml_100k(self):\n",
    "        from surprise import Dataset\n",
    "        data = Dataset.load_builtin('ml-100k')\n",
    "        self.df = pd.DataFrame(data.__dict__['raw_ratings'], columns=['user_id','item_id','rating','timestamp'])\n",
    "        self.df.drop(columns=['timestamp'],inplace=True)\n",
    "        self.df.rename({'user_id':'userID','item_id':'itemID'},axis=1,inplace=True)\n",
    "\n",
    "    def read_ml_1m(self):\n",
    "        from surprise import Dataset\n",
    "        data = Dataset.load_builtin('ml-1m')\n",
    "        self.df = pd.DataFrame(data.__dict__['raw_ratings'], columns=['user_id','item_id','rating','timestamp'])\n",
    "        self.df.drop(columns=['timestamp'],inplace=True)\n",
    "        self.df.rename({'user_id':'userID','item_id':'itemID'},axis=1,inplace=True)\n",
    "\n",
    "    def read_jester(self):\n",
    "        from surprise import Dataset\n",
    "        data = Dataset.load_builtin('jester')\n",
    "        self.df = pd.DataFrame(data.__dict__['raw_ratings'], columns=['user_id','item_id','rating','timestamp'])\n",
    "        self.df.drop(columns=['timestamp'],inplace=True)\n",
    "        self.df.rename({'user_id':'userID','item_id':'itemID'},axis=1,inplace=True)"
   ]
  },
  {
   "cell_type": "markdown",
   "metadata": {},
   "source": [
    "## Dataset"
   ]
  },
  {
   "cell_type": "markdown",
   "metadata": {},
   "source": [
    "A classe *Data* lê um dos 3 *datasets* disponibilizados pelo pacote *surprise (ml_100k, ml_1m, jester)*. Um exemplo de dataframe é o seguinte:"
   ]
  },
  {
   "cell_type": "code",
   "execution_count": 3,
   "metadata": {
    "ExecuteTime": {
     "end_time": "2022-10-13T19:41:22.190972Z",
     "start_time": "2022-10-13T19:41:21.856941Z"
    }
   },
   "outputs": [
    {
     "data": {
      "text/html": [
       "<div>\n",
       "<style scoped>\n",
       "    .dataframe tbody tr th:only-of-type {\n",
       "        vertical-align: middle;\n",
       "    }\n",
       "\n",
       "    .dataframe tbody tr th {\n",
       "        vertical-align: top;\n",
       "    }\n",
       "\n",
       "    .dataframe thead th {\n",
       "        text-align: right;\n",
       "    }\n",
       "</style>\n",
       "<table border=\"1\" class=\"dataframe\">\n",
       "  <thead>\n",
       "    <tr style=\"text-align: right;\">\n",
       "      <th></th>\n",
       "      <th>userID</th>\n",
       "      <th>itemID</th>\n",
       "      <th>rating</th>\n",
       "    </tr>\n",
       "  </thead>\n",
       "  <tbody>\n",
       "    <tr>\n",
       "      <th>0</th>\n",
       "      <td>196</td>\n",
       "      <td>242</td>\n",
       "      <td>3.0</td>\n",
       "    </tr>\n",
       "    <tr>\n",
       "      <th>1</th>\n",
       "      <td>186</td>\n",
       "      <td>302</td>\n",
       "      <td>3.0</td>\n",
       "    </tr>\n",
       "    <tr>\n",
       "      <th>2</th>\n",
       "      <td>22</td>\n",
       "      <td>377</td>\n",
       "      <td>1.0</td>\n",
       "    </tr>\n",
       "    <tr>\n",
       "      <th>3</th>\n",
       "      <td>244</td>\n",
       "      <td>51</td>\n",
       "      <td>2.0</td>\n",
       "    </tr>\n",
       "    <tr>\n",
       "      <th>4</th>\n",
       "      <td>166</td>\n",
       "      <td>346</td>\n",
       "      <td>1.0</td>\n",
       "    </tr>\n",
       "    <tr>\n",
       "      <th>...</th>\n",
       "      <td>...</td>\n",
       "      <td>...</td>\n",
       "      <td>...</td>\n",
       "    </tr>\n",
       "    <tr>\n",
       "      <th>99995</th>\n",
       "      <td>880</td>\n",
       "      <td>476</td>\n",
       "      <td>3.0</td>\n",
       "    </tr>\n",
       "    <tr>\n",
       "      <th>99996</th>\n",
       "      <td>716</td>\n",
       "      <td>204</td>\n",
       "      <td>5.0</td>\n",
       "    </tr>\n",
       "    <tr>\n",
       "      <th>99997</th>\n",
       "      <td>276</td>\n",
       "      <td>1090</td>\n",
       "      <td>1.0</td>\n",
       "    </tr>\n",
       "    <tr>\n",
       "      <th>99998</th>\n",
       "      <td>13</td>\n",
       "      <td>225</td>\n",
       "      <td>2.0</td>\n",
       "    </tr>\n",
       "    <tr>\n",
       "      <th>99999</th>\n",
       "      <td>12</td>\n",
       "      <td>203</td>\n",
       "      <td>3.0</td>\n",
       "    </tr>\n",
       "  </tbody>\n",
       "</table>\n",
       "<p>100000 rows × 3 columns</p>\n",
       "</div>"
      ],
      "text/plain": [
       "      userID itemID  rating\n",
       "0        196    242     3.0\n",
       "1        186    302     3.0\n",
       "2         22    377     1.0\n",
       "3        244     51     2.0\n",
       "4        166    346     1.0\n",
       "...      ...    ...     ...\n",
       "99995    880    476     3.0\n",
       "99996    716    204     5.0\n",
       "99997    276   1090     1.0\n",
       "99998     13    225     2.0\n",
       "99999     12    203     3.0\n",
       "\n",
       "[100000 rows x 3 columns]"
      ]
     },
     "execution_count": 3,
     "metadata": {},
     "output_type": "execute_result"
    }
   ],
   "source": [
    "data=Data()\n",
    "data.read_data('ml_100k')\n",
    "data.df"
   ]
  },
  {
   "cell_type": "markdown",
   "metadata": {},
   "source": [
    "As bases disponibilizadas no pacote consistem em classificações numéricas de 1 a 5 realizadas por usuários. Por este motivo, os únicos sistemas de recomendação possíveis são aqueles baseados em classificações (collaborative-filtering), sendo deixados de fora aqueles baseados em interlocuções sistema-usúario, baseados em linguagem natural ou demográficos."
   ]
  },
  {
   "cell_type": "markdown",
   "metadata": {},
   "source": [
    "É necessária uma expansão das classes para englobar os sistemas de reomendação baseados nestas outras informações sobre os usuários."
   ]
  },
  {
   "cell_type": "code",
   "execution_count": 4,
   "metadata": {
    "ExecuteTime": {
     "end_time": "2022-10-13T06:52:23.616090Z",
     "start_time": "2022-10-13T06:52:23.591073Z"
    }
   },
   "outputs": [],
   "source": [
    "class Method:\n",
    "    def __init__(self,df):\n",
    "        \n",
    "        self.df=df\n",
    "        self.available_methods=[\n",
    "            'surprise.NormalPredictor',\n",
    "            'surprise.BaselineOnly',\n",
    "            'surprise.KNNBasic',\n",
    "            'surprise.KNNWithMeans',\n",
    "            'surprise.KNNWithZScore',\n",
    "            'surprise.KNNBaseline',\n",
    "            'surprise.SVD',\n",
    "            'surprise.SVDpp',\n",
    "            'surprise.NMF',\n",
    "            'surprise.SlopeOne',\n",
    "            'surprise.CoClustering',\n",
    "        ]        \n",
    "        \n",
    "    def show_methods(self):\n",
    "        print('The avaliable methods are:')\n",
    "        for i,method in enumerate(self.available_methods):\n",
    "            print(str(i)+': '+method)\n",
    "\n",
    "\n",
    "\n",
    "    def run(self,the_method):\n",
    "        self.the_method=the_method\n",
    "        if(self.the_method[0:8]=='surprise'):\n",
    "            self.run_surprise()\n",
    "        elif(self.the_method[0:6]=='Gensim'):\n",
    "            self.run_gensim()\n",
    "        elif(self.the_method[0:13]=='Transformers-'):\n",
    "            self.run_transformers()\n",
    "        else:\n",
    "            print('This method is not defined! Try another one.')\n",
    "\n",
    "    def run_surprise(self):\n",
    "        from surprise import Reader\n",
    "        from surprise import Dataset\n",
    "        from surprise.model_selection import train_test_split\n",
    "        reader = Reader(rating_scale=(1, 5))\n",
    "        data = Dataset.load_from_df(self.df[['userID', 'itemID', 'rating']], reader)        \n",
    "        trainset, testset = train_test_split(data, test_size=.30)\n",
    "        the_method=self.the_method.replace(\"surprise.\", \"\")\n",
    "        eval(f\"exec('from surprise import {the_method}')\")\n",
    "        the_algorithm=locals()[the_method]()\n",
    "        the_algorithm.fit(trainset)\n",
    "        self.predictions=the_algorithm.test(testset)\n",
    "        list_predictions=[(uid,iid,r_ui,est) for uid,iid,r_ui,est,_ in self.predictions]        \n",
    "        self.predictions_df = pd.DataFrame(list_predictions, columns =['user_id', 'item_id', 'rating','predicted_rating'])"
   ]
  },
  {
   "cell_type": "markdown",
   "metadata": {
    "ExecuteTime": {
     "end_time": "2022-10-13T19:58:54.800447Z",
     "start_time": "2022-10-13T19:58:54.792316Z"
    }
   },
   "source": [
    "## Method"
   ]
  },
  {
   "cell_type": "markdown",
   "metadata": {},
   "source": [
    "A biblioteca *surprise* disponibiliza 11 modelos classificadores que tentam prever qual a classificação dos dados de treino, se baseando em diversas técnicas diferentes de *collaborative-filtering*. Os modelos disponibilizados com uma breve explicação em inglês estão citados abaixo, para mais informações favor consultar a [documentação do pacote.](https://surprise.readthedocs.io/en/stable/prediction_algorithms_package.html)"
   ]
  },
  {
   "cell_type": "markdown",
   "metadata": {},
   "source": [
    "*random_pred.NormalPredictor*:\n",
    "Algorithm predicting a random rating based on the distribution of the training set, which is assumed to be normal.\n",
    "\n",
    "*baseline_only.BaselineOnly*:\n",
    "Algorithm predicting the baseline estimate for given user and item.\n",
    "\n",
    "*knns.KNNBasic*:\n",
    "A basic collaborative filtering algorithm.\n",
    "\n",
    "*knns.KNNWithMeans*:\n",
    "A basic collaborative filtering algorithm, taking into account the mean ratings of each user.\n",
    "\n",
    "*knns.KNNWithZScore*:\n",
    "A basic collaborative filtering algorithm, taking into account the z-score normalization of each user.\n",
    "\n",
    "*knns.KNNBaseline*:\n",
    "A basic collaborative filtering algorithm taking into account a baseline rating.\n",
    "\n",
    "*matrix_factorization.SVD*:\n",
    "The famous SVD algorithm, as popularized by Simon Funk during the Netflix Prize.\n",
    "\n",
    "*matrix_factorization.SVDpp*:\n",
    "The SVD++ algorithm, an extension of SVD taking into account implicit ratings.\n",
    "\n",
    "*matrix_factorization.NMF*:\n",
    "A collaborative filtering algorithm based on Non-negative Matrix Factorization.\n",
    "\n",
    "*slope_one.SlopeOne*:\n",
    "A simple yet accurate collaborative filtering algorithm.\n",
    "\n",
    "*co_clustering.CoClustering*:\n",
    "A collaborative filtering algorithm based on co-clustering."
   ]
  },
  {
   "cell_type": "markdown",
   "metadata": {},
   "source": [
    "É possível passar como argumento para esta classe um dataframe personalizado. O dataframe em questão precisa ter 3 colunas com os seguintes nome: ['userID', 'itemID', 'rating']."
   ]
  },
  {
   "cell_type": "code",
   "execution_count": 5,
   "metadata": {
    "ExecuteTime": {
     "end_time": "2022-10-13T06:54:28.861659Z",
     "start_time": "2022-10-13T06:54:28.842713Z"
    },
    "run_control": {
     "marked": false
    }
   },
   "outputs": [],
   "source": [
    "class Evaluator:\n",
    "\n",
    "    def __init__(self,predictions_df):\n",
    "\n",
    "        self.available_evaluators=['surprise.rmse','surprise.mse',\n",
    "                                   'surprise.mae','surprise.fcp']\n",
    "        self.predictions_df=predictions_df\n",
    "        \n",
    "    def show_evaluators(self):\n",
    "        print('The avaliable evaluators are:')\n",
    "        for i,evaluator in enumerate(self.available_evaluators):\n",
    "            print(str(i)+': '+evaluator)\n",
    "        \n",
    "\n",
    "\n",
    "    def run(self,the_evaluator):        \n",
    "        self.the_evaluator=the_evaluator\n",
    "        if(self.the_evaluator[0:8]=='surprise'):\n",
    "            self.run_surprise()\n",
    "        else:\n",
    "            print('This evaluator is not available!')\n",
    "\n",
    "    def run_surprise(self):\n",
    "        import surprise\n",
    "        from surprise import accuracy\n",
    "        predictions=[surprise.prediction_algorithms.predictions.Prediction(row['user_id'],row['item_id'],row['rating'],row['predicted_rating'],{}) for index,row in self.predictions_df.iterrows()]\n",
    "        self.predictions=predictions\n",
    "        self.the_evaluator= 'accuracy.' + self.the_evaluator.replace(\"surprise.\", \"\")\n",
    "        from surprise import accuracy\n",
    "        print(eval(f'{self.the_evaluator}(predictions,verbose=True)'))"
   ]
  },
  {
   "cell_type": "markdown",
   "metadata": {},
   "source": [
    "## Evaluator"
   ]
  },
  {
   "cell_type": "markdown",
   "metadata": {},
   "source": [
    "A biblioteca *surprise* disponibiliza 4 métodos diferentes para avaliar a acurácia da previsão das classificações"
   ]
  },
  {
   "cell_type": "markdown",
   "metadata": {},
   "source": [
    "## Experimento"
   ]
  },
  {
   "cell_type": "markdown",
   "metadata": {},
   "source": [
    "O código abaixo foi formulado pelo professor Cajueiro se baseando no método KNNBasic de previsão de classificações, e posteriormente foi expandido pelo Vítor para englobar outros diferentes métodos. O código agora é capaz de usar qualquer combinação de recursos da biblioteca surprise para sistemas de recomendação baseado em *collaborative-filtering*"
   ]
  },
  {
   "cell_type": "code",
   "execution_count": 6,
   "metadata": {
    "ExecuteTime": {
     "end_time": "2022-10-13T07:26:05.915456Z",
     "start_time": "2022-10-13T07:25:56.133443Z"
    },
    "scrolled": false
   },
   "outputs": [
    {
     "name": "stdout",
     "output_type": "stream",
     "text": [
      "The avaliable database are:\n",
      "0: ml_100k\n",
      "1: ml_1m\n",
      "2: jester\n",
      "The avaliable methods are:\n",
      "0: surprise.NormalPredictor\n",
      "1: surprise.BaselineOnly\n",
      "2: surprise.KNNBasic\n",
      "3: surprise.KNNWithMeans\n",
      "4: surprise.KNNWithZScore\n",
      "5: surprise.KNNBaseline\n",
      "6: surprise.SVD\n",
      "7: surprise.SVDpp\n",
      "8: surprise.NMF\n",
      "9: surprise.SlopeOne\n",
      "10: surprise.CoClustering\n",
      "Computing the msd similarity matrix...\n",
      "Done computing similarity matrix.\n",
      "The avaliable evaluators are:\n",
      "0: surprise.rmse\n",
      "1: surprise.mse\n",
      "2: surprise.mae\n",
      "3: surprise.fcp\n",
      "MSE: 0.9153\n",
      "0.9153464426667521\n"
     ]
    }
   ],
   "source": [
    "data=Data()\n",
    "data.show_available_databases()\n",
    "data.read_data('ml_100k')\n",
    "method=Method(data.df)  \n",
    "method.show_methods()\n",
    "method.run('surprise.KNNWithMeans')\n",
    "predictions_df=method.predictions_df\n",
    "evaluator=Evaluator(predictions_df)\n",
    "evaluator.show_evaluators()\n",
    "evaluator.run('surprise.mse')"
   ]
  },
  {
   "cell_type": "markdown",
   "metadata": {},
   "source": [
    "O código abaixo foi formulado pelo Vítor para gerar *ratings* de forma aleatória para 20 usuários fictícios do *ppf* realizando 10.000 classificações. Depois disso o código replica a metodologia de previsão de classificações e avaliação do sistema."
   ]
  },
  {
   "cell_type": "code",
   "execution_count": 7,
   "metadata": {
    "ExecuteTime": {
     "end_time": "2022-10-13T07:27:33.669050Z",
     "start_time": "2022-10-13T07:27:32.788828Z"
    }
   },
   "outputs": [
    {
     "name": "stdout",
     "output_type": "stream",
     "text": [
      "Computing the msd similarity matrix...\n",
      "Done computing similarity matrix.\n",
      "MSE: 1.4481\n",
      "1.4480668366877096\n"
     ]
    }
   ],
   "source": [
    "opo = pd.read_csv('../oportunidades.csv')\n",
    "df = [(random.randrange(20), random.randrange(len(opo)), random.randrange(1,5)) for i in range(10000)]\n",
    "df = pd.DataFrame(df, columns = ['userID', 'itemID', 'rating'])\n",
    "\n",
    "method=Method(df)  \n",
    "method.run('surprise.KNNWithMeans')\n",
    "predictions_df=method.predictions_df\n",
    "evaluator=Evaluator(predictions_df)\n",
    "evaluator.run('surprise.mse')"
   ]
  },
  {
   "cell_type": "code",
   "execution_count": 8,
   "metadata": {},
   "outputs": [
    {
     "name": "stderr",
     "output_type": "stream",
     "text": [
      "C:\\Users\\vitor\\AppData\\Local\\Temp\\ipykernel_24684\\1803602344.py:15: DeprecationWarning: Sampling from a set deprecated\n",
      "since Python 3.9 and will be removed in a subsequent version.\n",
      "  user = random.sample(topics.keys(), 1)[0]\n"
     ]
    },
    {
     "name": "stdout",
     "output_type": "stream",
     "text": [
      "Computing the msd similarity matrix...\n",
      "Done computing similarity matrix.\n",
      "MSE: 0.1411\n",
      "0.1411398576751674\n"
     ]
    }
   ],
   "source": [
    "import gensim\n",
    "import random\n",
    "import math\n",
    "import numpy as np\n",
    "\n",
    "lda_model = gensim.models.ldamodel.LdaModel.load('../generate_users/models/lda_model.model')\n",
    "\n",
    "df = []\n",
    "for i in range(10000):\n",
    "    opo_n = random.randrange(len(opo))\n",
    "    txt = opo.loc[opo_n,'opo_texto']\n",
    "    opo_bow = lda_model.id2word.doc2bow(txt.split())\n",
    "    topics = lda_model.get_document_topics(opo_bow)\n",
    "    topics = {topic[0]:topic[1] for topic in topics}\n",
    "    user = random.sample(topics.keys(), 1)[0]\n",
    "    rating = math.ceil(topics[user]*5)\n",
    "    df.append((user, opo_n, rating))\n",
    "\n",
    "df = pd.DataFrame(df, columns = ['userID', 'itemID', 'rating'])\n",
    "\n",
    "method=Method(df)  \n",
    "method.run('surprise.KNNWithMeans')\n",
    "predictions_df=method.predictions_df\n",
    "evaluator=Evaluator(predictions_df)\n",
    "evaluator.run('surprise.mse')\n",
    "\n"
   ]
  },
  {
   "cell_type": "code",
   "execution_count": 9,
   "metadata": {},
   "outputs": [
    {
     "data": {
      "text/plain": [
       "1    8421\n",
       "2    1109\n",
       "3     386\n",
       "4      84\n",
       "Name: rating, dtype: int64"
      ]
     },
     "execution_count": 9,
     "metadata": {},
     "output_type": "execute_result"
    }
   ],
   "source": [
    "df['rating'].value_counts()"
   ]
  },
  {
   "cell_type": "code",
   "execution_count": 10,
   "metadata": {},
   "outputs": [
    {
     "name": "stdout",
     "output_type": "stream",
     "text": [
      "Computing the msd similarity matrix...\n",
      "Done computing similarity matrix.\n",
      "MSE: 0.8239\n",
      "0.8238875605859762\n"
     ]
    }
   ],
   "source": [
    "df = []\n",
    "\n",
    "for i in range(10000):\n",
    "    opo_n = random.randrange(len(opo))\n",
    "    txt = opo.loc[opo_n,'opo_texto']\n",
    "    opo_bow = lda_model.id2word.doc2bow(txt.split())\n",
    "    topics = lda_model.get_document_topics(opo_bow)\n",
    "    topics = {topic[0]:topic[1] for topic in topics}\n",
    "\n",
    "    prop = pd.DataFrame([topics], index=['prop']).T.sort_values('prop', ascending=True)\n",
    "    prop['rating'] = range(1, len(prop)+1)\n",
    "    prop['rating'] = prop['rating']/len(prop)\n",
    "    prop['rating'] = prop['rating'].apply(lambda x: math.ceil(x*5))\n",
    "    prop.reset_index(inplace=True)\n",
    "\n",
    "    prop = prop.sample(1)\n",
    "\n",
    "    df.append((prop['index'].values[0], opo_n, prop['rating'].values[0]))\n",
    "\n",
    "df = pd.DataFrame(df, columns = ['userID', 'itemID', 'rating'])\n",
    "\n",
    "method=Method(df)  \n",
    "method.run('surprise.KNNWithMeans')\n",
    "predictions_df=method.predictions_df\n",
    "evaluator=Evaluator(predictions_df)\n",
    "evaluator.run('surprise.mse')\n"
   ]
  },
  {
   "cell_type": "code",
   "execution_count": 11,
   "metadata": {},
   "outputs": [
    {
     "data": {
      "text/plain": [
       "5    2450\n",
       "3    2011\n",
       "4    2007\n",
       "2    2004\n",
       "1    1528\n",
       "Name: rating, dtype: int64"
      ]
     },
     "execution_count": 11,
     "metadata": {},
     "output_type": "execute_result"
    }
   ],
   "source": [
    "df['rating'].value_counts()"
   ]
  }
 ],
 "metadata": {
  "hide_input": false,
  "kernelspec": {
   "display_name": "Python 3",
   "language": "python",
   "name": "python3"
  },
  "language_info": {
   "codemirror_mode": {
    "name": "ipython",
    "version": 3
   },
   "file_extension": ".py",
   "mimetype": "text/x-python",
   "name": "python",
   "nbconvert_exporter": "python",
   "pygments_lexer": "ipython3",
   "version": "3.10.4"
  },
  "varInspector": {
   "cols": {
    "lenName": 16,
    "lenType": 16,
    "lenVar": 40
   },
   "kernels_config": {
    "python": {
     "delete_cmd_postfix": "",
     "delete_cmd_prefix": "del ",
     "library": "var_list.py",
     "varRefreshCmd": "print(var_dic_list())"
    },
    "r": {
     "delete_cmd_postfix": ") ",
     "delete_cmd_prefix": "rm(",
     "library": "var_list.r",
     "varRefreshCmd": "cat(var_dic_list()) "
    }
   },
   "types_to_exclude": [
    "module",
    "function",
    "builtin_function_or_method",
    "instance",
    "_Feature"
   ],
   "window_display": false
  },
  "vscode": {
   "interpreter": {
    "hash": "5fe3e6f0cdaab8afdc61c52912fda83f7c0a71baaea1897dd7498e2df01e69ec"
   }
  }
 },
 "nbformat": 4,
 "nbformat_minor": 2
}
